{
  "nbformat": 4,
  "nbformat_minor": 0,
  "metadata": {
    "colab": {
      "name": "while loop_1.ipynb",
      "provenance": [],
      "authorship_tag": "ABX9TyO0/SLZeBwjjdvsgk5HajK7",
      "include_colab_link": true
    },
    "kernelspec": {
      "name": "python3",
      "display_name": "Python 3"
    },
    "language_info": {
      "name": "python"
    }
  },
  "cells": [
    {
      "cell_type": "markdown",
      "metadata": {
        "id": "view-in-github",
        "colab_type": "text"
      },
      "source": [
        "<a href=\"https://colab.research.google.com/github/ajitjadhav10/HackerRank/blob/main/practice_codes/while_loop_1.ipynb\" target=\"_parent\"><img src=\"https://colab.research.google.com/assets/colab-badge.svg\" alt=\"Open In Colab\"/></a>"
      ]
    },
    {
      "cell_type": "markdown",
      "source": [
        "1) Write a program to keep asking for a number until you enter a negative number. At the end, print the sum of all entered numbers."
      ],
      "metadata": {
        "id": "VIwObeZ0N1uk"
      }
    },
    {
      "cell_type": "code",
      "execution_count": 1,
      "metadata": {
        "colab": {
          "base_uri": "https://localhost:8080/"
        },
        "id": "j0Z-I8HENzAV",
        "outputId": "05ed17b8-e80a-4a97-9fb6-e0db1309b606"
      },
      "outputs": [
        {
          "output_type": "stream",
          "name": "stdout",
          "text": [
            "13\n",
            "14\n",
            "-1\n",
            "27\n"
          ]
        }
      ],
      "source": [
        "i=0\n",
        "total=0\n",
        "\n",
        "while i>=0:\n",
        "  total=total+i\n",
        "  i=int(input())\n",
        "print(total)"
      ]
    },
    {
      "cell_type": "code",
      "source": [
        ""
      ],
      "metadata": {
        "id": "neUBQnmdN8a4"
      },
      "execution_count": null,
      "outputs": []
    }
  ]
}