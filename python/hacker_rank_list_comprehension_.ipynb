{
  "nbformat": 4,
  "nbformat_minor": 0,
  "metadata": {
    "colab": {
      "name": "hacker_rank_list_comprehension .ipynb",
      "provenance": [],
      "authorship_tag": "ABX9TyPtQz9+R7B1bZzQilttPkKO",
      "include_colab_link": true
    },
    "kernelspec": {
      "name": "python3",
      "display_name": "Python 3"
    },
    "language_info": {
      "name": "python"
    }
  },
  "cells": [
    {
      "cell_type": "markdown",
      "metadata": {
        "id": "view-in-github",
        "colab_type": "text"
      },
      "source": [
        "<a href=\"https://colab.research.google.com/github/ajitjadhav10/HackerRank/blob/main/python/hacker_rank_list_comprehension_.ipynb\" target=\"_parent\"><img src=\"https://colab.research.google.com/assets/colab-badge.svg\" alt=\"Open In Colab\"/></a>"
      ]
    },
    {
      "cell_type": "code",
      "execution_count": 3,
      "metadata": {
        "colab": {
          "base_uri": "https://localhost:8080/"
        },
        "id": "UPQLkFTwIQt_",
        "outputId": "7cab673a-e55d-4969-ef4d-1faae6c2bae9"
      },
      "outputs": [
        {
          "name": "stdout",
          "output_type": "stream",
          "text": [
            "1\n",
            "1\n",
            "1\n",
            "2\n"
          ]
        }
      ],
      "source": [
        "#https://www.hackerrank.com/challenges/list-comprehensions/problem\n",
        "\n",
        "x=int(input())\n",
        "y=int(input())\n",
        "z=int(input())\n",
        "n=int(input())"
      ]
    },
    {
      "cell_type": "code",
      "source": [
        "my_list=[[a,b,c] for a in range(0,x+1) for b in range(0,y+1) for c in range(0,z+1) if a+b+c !=n]\n",
        "print(my_list)"
      ],
      "metadata": {
        "colab": {
          "base_uri": "https://localhost:8080/"
        },
        "id": "a8J5UGDqI4BV",
        "outputId": "6eaf8284-df77-42e3-f1d2-0c38dbdd62ea"
      },
      "execution_count": 5,
      "outputs": [
        {
          "output_type": "stream",
          "name": "stdout",
          "text": [
            "[[0, 0, 0], [0, 0, 1], [0, 1, 0], [1, 0, 0], [1, 1, 1]]\n"
          ]
        }
      ]
    },
    {
      "cell_type": "code",
      "source": [
        "#practice\n",
        "#For example, if you want to generate all combinations of lists [1,2,3] and [4,5,6], write:\n",
        "\n",
        "x=[1,2,3]\n",
        "y=[4,5,6]\n",
        "new_list=[[a,b] for a in [1,2,3] for b in [4,5,6]]\n",
        "\n",
        "new_list"
      ],
      "metadata": {
        "colab": {
          "base_uri": "https://localhost:8080/"
        },
        "id": "TSvlmzCIJLNu",
        "outputId": "dba43c8b-2a97-46d6-bf0b-5c4d67306447"
      },
      "execution_count": 7,
      "outputs": [
        {
          "output_type": "execute_result",
          "data": {
            "text/plain": [
              "[[1, 4], [1, 5], [1, 6], [2, 4], [2, 5], [2, 6], [3, 4], [3, 5], [3, 6]]"
            ]
          },
          "metadata": {},
          "execution_count": 7
        }
      ]
    }
  ]
}