{
  "nbformat": 4,
  "nbformat_minor": 0,
  "metadata": {
    "colab": {
      "name": "string_validators.ipynb",
      "provenance": [],
      "authorship_tag": "ABX9TyPmIP2EERzs/xnGnoze1qKZ",
      "include_colab_link": true
    },
    "kernelspec": {
      "name": "python3",
      "display_name": "Python 3"
    },
    "language_info": {
      "name": "python"
    }
  },
  "cells": [
    {
      "cell_type": "markdown",
      "metadata": {
        "id": "view-in-github",
        "colab_type": "text"
      },
      "source": [
        "<a href=\"https://colab.research.google.com/github/ajitjadhav10/HackerRank/blob/main/python/string_validators.ipynb\" target=\"_parent\"><img src=\"https://colab.research.google.com/assets/colab-badge.svg\" alt=\"Open In Colab\"/></a>"
      ]
    },
    {
      "cell_type": "markdown",
      "source": [
        "Task\n",
        "\n",
        "You are given a string .\n",
        "Your task is to find out if the string  contains: alphanumeric characters, alphabetical characters, digits, lowercase and uppercase characters.\n",
        "\n",
        "Input Format\n",
        "\n",
        "A single line containing a string S.\n",
        "\n",
        "Constraints\n",
        "0 < len(S) < 1000\n",
        "\n",
        "Output Format\n",
        "\n",
        "In the first line, print True if S has any alphanumeric characters. Otherwise, print False.\n",
        "In the second line, print True if S has any alphabetical characters. Otherwise, print False.\n",
        "In the third line, print True if S has any digits. Otherwise, print False.\n",
        "In the fourth line, print True if S has any lowercase characters. Otherwise, print False.\n",
        "In the fifth line, print True if S has any uppercase characters. Otherwise, print False."
      ],
      "metadata": {
        "id": "GtJDXrWfxO46"
      }
    },
    {
      "cell_type": "code",
      "execution_count": 1,
      "metadata": {
        "colab": {
          "base_uri": "https://localhost:8080/"
        },
        "id": "SSxtGsKYwdqa",
        "outputId": "455f948c-ce99-4a40-997c-0515ad796642"
      },
      "outputs": [
        {
          "output_type": "stream",
          "name": "stdout",
          "text": [
            "abWdsdas12\n",
            "True\n",
            "True\n",
            "True\n",
            "True\n",
            "True\n"
          ]
        }
      ],
      "source": [
        "if __name__ == '__main__':\n",
        "    s = input()\n",
        "    print(any(a.isalnum() for a in s))\n",
        "    print(any(a.isalpha() for a in s))\n",
        "    print(any(a.isdigit() for a in s))\n",
        "    print(any(a.islower() for a in s))\n",
        "    print(any(a.isupper() for a in s))"
      ]
    },
    {
      "cell_type": "code",
      "source": [
        ""
      ],
      "metadata": {
        "id": "Rs6y9tY_xpno"
      },
      "execution_count": null,
      "outputs": []
    }
  ]
}